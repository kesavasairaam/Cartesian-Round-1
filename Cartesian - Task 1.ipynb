{
 "cells": [
  {
   "cell_type": "code",
   "execution_count": 4,
   "id": "5a3eb8cf",
   "metadata": {},
   "outputs": [
    {
     "name": "stdout",
     "output_type": "stream",
     "text": [
      "Earth is the only planet known to support life, and its natural features are the subject of many fields of scientific research. Within the Solar System, it is third closest to the Sun; it is the largest terrestrial planet and the fifth largest overall. \n",
      "overall. largest fifth the and planet terrestrial largest the is it Sun; the to closest third is it System, Solar the Within research. scientific of fields many of subject the are features natural its and life, support to known planet only the is Earth\n",
      "the : 6 times\n",
      "is : 3 times\n"
     ]
    }
   ],
   "source": [
    "Words=input().split()\n",
    "Words=Words[::-1]\n",
    "frequencOfWords={}\n",
    "distinctWords=[]\n",
    "for i in Words:\n",
    "  if i not in distinctWords:\n",
    "    distinctWords.append(i)\n",
    "    frequencOfWords[i]=1\n",
    "  else:\n",
    "    frequencOfWords[i]+=1\n",
    "\n",
    "temp=sorted(frequencOfWords.items(),key=lambda x:x[1])\n",
    "frequencOfWords=dict(temp)\n",
    "count=0\n",
    "keys=list(frequencOfWords.keys())\n",
    "print(*sentance)\n",
    "print(keys[-1],\":\", frequencOfWords[keys[-1]],\"times\")\n",
    "print(keys[-2],\":\", frequencOfWords[keys[-2]],\"times\")"
   ]
  },
  {
   "cell_type": "code",
   "execution_count": null,
   "id": "6059922d",
   "metadata": {},
   "outputs": [],
   "source": []
  }
 ],
 "metadata": {
  "kernelspec": {
   "display_name": "Python 3 (ipykernel)",
   "language": "python",
   "name": "python3"
  },
  "language_info": {
   "codemirror_mode": {
    "name": "ipython",
    "version": 3
   },
   "file_extension": ".py",
   "mimetype": "text/x-python",
   "name": "python",
   "nbconvert_exporter": "python",
   "pygments_lexer": "ipython3",
   "version": "3.9.7"
  }
 },
 "nbformat": 4,
 "nbformat_minor": 5
}
